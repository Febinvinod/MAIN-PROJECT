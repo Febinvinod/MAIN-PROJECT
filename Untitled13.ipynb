{
  "cells": [
    {
      "cell_type": "code",
      "execution_count": 7,
      "metadata": {
        "id": "7YtBSwWE48Dv"
      },
      "outputs": [],
      "source": [
        "import pandas as pd\n",
        "from sklearn.model_selection import train_test_split\n",
        "from sklearn.metrics import accuracy_score\n",
        "import joblib\n",
        "from sklearn.preprocessing import LabelEncoder\n",
        "from collections import Counter\n",
        "import xgboost as xgb\n",
        "from sklearn.neighbors import KNeighborsClassifier\n",
        "from sklearn.svm import SVC\n",
        "import sklearn\n",
        "from sklearn.metrics import precision_score, recall_score, f1_score\n"
      ]
    },
    {
      "cell_type": "code",
      "execution_count": null,
      "metadata": {
        "colab": {
          "base_uri": "https://localhost:8080/",
          "height": 36
        },
        "id": "gpDJAnu6Xkef",
        "outputId": "3fe6663c-09c1-40ad-be04-0a951b2bd2a7"
      },
      "outputs": [
        {
          "data": {
            "application/vnd.google.colaboratory.intrinsic+json": {
              "type": "string"
            },
            "text/plain": [
              "'1.2.2'"
            ]
          },
          "execution_count": 33,
          "metadata": {},
          "output_type": "execute_result"
        }
      ],
      "source": [
        "sklearn.__version__"
      ]
    },
    {
      "cell_type": "code",
      "execution_count": null,
      "metadata": {
        "id": "OvNfjS-bGetD"
      },
      "outputs": [],
      "source": [
        "df = pd.read_csv('/content/courses_new_new.csv')\n",
        "college_df = pd.read_csv('/content/Book1.csv')"
      ]
    },
    {
      "cell_type": "code",
      "execution_count": null,
      "metadata": {
        "colab": {
          "background_save": true
        },
        "id": "HbrjyR5kGrOI",
        "outputId": "b8bef181-d41c-41d2-cbf1-8984d41ec378"
      },
      "outputs": [
        {
          "name": "stdout",
          "output_type": "stream",
          "text": [
            "Accuracy of XGBoost classifier: 0.85\n",
            "Accuracy of K-Nearest Neighbors classifier: 0.08\n",
            "Accuracy of Support Vector Machine classifier: 0.23\n",
            "Accuracy of the Ensemble model: 0.80\n",
            "Recommended Courses:\n",
            "Physics (B.Sc)\n",
            "Psychology (B.Sc)\n",
            "\n",
            "Top 5 Colleges for Physics (B.Sc):\n",
            "                                               College  NIRF_Ranking_2023\n",
            "110            Indian Institute of Science (Bangalore)                  1\n",
            "111                        University of Delhi (Delhi)                  2\n",
            "112    Indian Institute of Technology Madras (Chennai)                  3\n",
            "113     Indian Institute of Technology Bombay (Mumbai)                  4\n",
            "114  Indian Institute of Technology Kharagpur (Khar...                  6\n",
            "\n",
            "Top 5 Colleges for Psychology (B.Sc):\n",
            "                                          College  NIRF_Ranking_2023\n",
            "105  Indian Institute of Technology Delhi (Delhi)                  4\n",
            "107                 St. Stephen's College (Delhi)                  5\n",
            "106                         Miranda House (Delhi)                  6\n",
            "108       Lady Shri Ram College for Women (Delhi)                  7\n",
            "109                      Loyola College (Chennai)                 15\n"
          ]
        },
        {
          "name": "stderr",
          "output_type": "stream",
          "text": [
            "/usr/local/lib/python3.10/dist-packages/sklearn/base.py:439: UserWarning: X does not have valid feature names, but KNeighborsClassifier was fitted with feature names\n",
            "  warnings.warn(\n",
            "/usr/local/lib/python3.10/dist-packages/sklearn/base.py:439: UserWarning: X does not have valid feature names, but SVC was fitted with feature names\n",
            "  warnings.warn(\n"
          ]
        }
      ],
      "source": [
        "X = df[['Logical Reasoning', 'Communication Skills', 'Quantitative Skills',\n",
        "        'Analytical Skills', 'English','Maths','Physics','Biology','Chemistry','Accounting','Economics','Business Studies','History','Sociology','Politics','High School CGPA', 'Stream_Point']]\n",
        "y = df['Recommended Course']\n",
        "\n",
        "# Encode the target labels to numerical values\n",
        "label_encoder = LabelEncoder()\n",
        "y_encoded = label_encoder.fit_transform(y)\n",
        "\n",
        "# Split the dataset into training and testing sets\n",
        "X_train, X_test, y_train, y_test = train_test_split(X, y_encoded, test_size=0.2, random_state=42)\n",
        "\n",
        "# Create and train XGBoost classifier\n",
        "xgb_classifier = xgb.XGBClassifier(random_state=42)\n",
        "xgb_classifier.fit(X_train, y_train)\n",
        "\n",
        "# Make predictions on the test data using the XGBoost model\n",
        "y_pred_xgb = xgb_classifier.predict(X_test)\n",
        "\n",
        "# Create and train K-Nearest Neighbors classifier\n",
        "knn_classifier = KNeighborsClassifier(n_neighbors=3)\n",
        "knn_classifier.fit(X_train, y_train)\n",
        "\n",
        "# Make predictions on the test data using the K-Nearest Neighbors model\n",
        "y_pred_knn = knn_classifier.predict(X_test)\n",
        "\n",
        "# Create and train Support Vector Machine classifier\n",
        "svm_classifier = SVC(kernel='linear', random_state=42)\n",
        "svm_classifier.fit(X_train, y_train)\n",
        "\n",
        "# Make predictions on the test data using the Support Vector Machine model\n",
        "y_pred_svm = svm_classifier.predict(X_test)\n",
        "\n",
        "accuracy_xgb = accuracy_score(y_test, y_pred_xgb)\n",
        "accuracy_knn = accuracy_score(y_test, y_pred_knn)\n",
        "accuracy_svm = accuracy_score(y_test, y_pred_svm)\n",
        "# Create an ensemble model to combine predictions using majority voting\n",
        "ensemble_predictions = []\n",
        "for i in range(len(y_test)):\n",
        "    predictions = [y_pred_xgb[i], y_pred_knn[i], y_pred_svm[i]]\n",
        "    majority_vote = Counter(predictions).most_common(1)[0][0]\n",
        "    ensemble_predictions.append(majority_vote)\n",
        "\n",
        "\n",
        "# Calculate the accuracy of the ensemble model\n",
        "print(f\"Accuracy of XGBoost classifier: {accuracy_xgb:.2f}\")\n",
        "print(f\"Accuracy of K-Nearest Neighbors classifier: {accuracy_knn:.2f}\")\n",
        "print(f\"Accuracy of Support Vector Machine classifier: {accuracy_svm:.2f}\")\n",
        "accuracy = accuracy_score(y_test, ensemble_predictions)\n",
        "print(f\"Accuracy of the Ensemble model: {accuracy:.2f}\")\n",
        "\n",
        "\n",
        "import tabulate\n",
        "\n",
        "def predict_and_recommend(input_data):\n",
        "    # Make predictions on the input data using individual classifiers\n",
        "    new_data_predictions_xgb = xgb_classifier.predict(input_data)\n",
        "    new_data_predictions_knn = knn_classifier.predict(input_data)\n",
        "    new_data_predictions_svm = svm_classifier.predict(input_data)\n",
        "\n",
        "    # Combine the predictions using majority voting for the new data\n",
        "    predictions = [new_data_predictions_xgb[0], new_data_predictions_knn[0], new_data_predictions_svm[0]]\n",
        "    top_three = [x[0] for x in Counter(predictions).most_common(3)]\n",
        "\n",
        "    # Convert the predicted labels back to their original class labels\n",
        "    predicted_courses = label_encoder.inverse_transform(top_three)\n",
        "\n",
        "    # Get the top three recommended courses\n",
        "    recommended_courses = list(predicted_courses)\n",
        "\n",
        "\n",
        "    # Print recommended courses\n",
        "    print(\"Recommended Courses:\")\n",
        "    for course in recommended_courses:\n",
        "        print(course)\n",
        "\n",
        "    # Filter recommended colleges based on the top three predicted courses\n",
        "    recommended_colleges = []\n",
        "\n",
        "    for predicted_course in recommended_courses:\n",
        "        colleges_for_course = college_df[college_df['Recommended Course'] == predicted_course]\n",
        "        recommended_colleges.append(colleges_for_course)\n",
        "\n",
        "    # Sort the recommended colleges by NIRF ranking for each course\n",
        "    sorted_recommended_colleges = [colleges.sort_values(by='NIRF_Ranking_2023') for colleges in recommended_colleges]\n",
        "\n",
        "    # Print colleges for each recommended course in a table format\n",
        "    for i, course in enumerate(recommended_courses):\n",
        "        print(f\"\\nTop 5 Colleges for {course}:\")\n",
        "        college_table = sorted_recommended_colleges[i][['College', 'NIRF_Ranking_2023']].head(5)\n",
        "        #print(tabulate.tabulate(college_table, headers='keys', tablefmt='grid'))\n",
        "        print(college_table)\n",
        "\n",
        "new_data = [[10, 10, 10, 0,100,100,100,100,100,0,0,0,0,0,0, 9, 8]]\n",
        "predict_and_recommend(new_data)\n",
        "\n",
        "\n",
        "\n",
        "\n",
        "#joblib.dump(predict_and_recommend, 'course_recommendation_modell.pkl')\n"
      ]
    },
    {
      "cell_type": "code",
      "source": [
        "joblib.dump(xgb_classifier, 'xgb_classifier.pkl')\n",
        "joblib.dump(knn_classifier, 'knn_classifier.pkl')\n",
        "joblib.dump(svm_classifier, 'svm_classifier.pkl')\n"
      ],
      "metadata": {
        "colab": {
          "base_uri": "https://localhost:8080/"
        },
        "id": "UQMt0c7WnD-B",
        "outputId": "f444c7d4-1466-4ec6-ac84-84ee9d5ed75d"
      },
      "execution_count": 10,
      "outputs": [
        {
          "output_type": "execute_result",
          "data": {
            "text/plain": [
              "['svm_classifier.pkl']"
            ]
          },
          "metadata": {},
          "execution_count": 10
        }
      ]
    },
    {
      "cell_type": "code",
      "execution_count": null,
      "metadata": {
        "id": "dd-Hc0N1SaVj"
      },
      "outputs": [],
      "source": []
    }
  ],
  "metadata": {
    "colab": {
      "provenance": []
    },
    "kernelspec": {
      "display_name": "Python 3",
      "name": "python3"
    },
    "language_info": {
      "name": "python"
    }
  },
  "nbformat": 4,
  "nbformat_minor": 0
}
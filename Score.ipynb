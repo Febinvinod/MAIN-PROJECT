{
  "nbformat": 4,
  "nbformat_minor": 0,
  "metadata": {
    "colab": {
      "provenance": []
    },
    "kernelspec": {
      "name": "python3",
      "display_name": "Python 3"
    },
    "language_info": {
      "name": "python"
    }
  },
  "cells": [
    {
      "cell_type": "code",
      "execution_count": null,
      "metadata": {
        "id": "spwjWfrM8CF5"
      },
      "outputs": [],
      "source": [
        "import pandas as pd\n",
        "from sklearn.model_selection import train_test_split\n",
        "from sklearn.metrics import accuracy_score\n",
        "import joblib\n",
        "from sklearn.preprocessing import LabelEncoder\n",
        "from collections import Counter\n",
        "import xgboost as xgb\n",
        "from sklearn.neighbors import KNeighborsClassifier\n",
        "from sklearn.svm import SVC\n",
        "import sklearn\n",
        "from sklearn.metrics import precision_score, recall_score, f1_score"
      ]
    },
    {
      "cell_type": "code",
      "source": [
        "df = pd.read_csv('/content/courses_new.csv')\n",
        "college_df = pd.read_csv('/content/Book1.csv')"
      ],
      "metadata": {
        "id": "dV-2PRhI8HMx"
      },
      "execution_count": null,
      "outputs": []
    },
    {
      "cell_type": "code",
      "source": [
        "X = df[['English', 'Maths', 'Physics','Biology','Chemistry','Accounting','Economics','Business Studies','History','Sociology',\n",
        "        'Politics', 'High School CGPA', 'Stream_Point']]\n",
        "y = df['Recommended Course']\n",
        "\n",
        "\n",
        "label_encoder = LabelEncoder()\n",
        "y_encoded = label_encoder.fit_transform(y)\n",
        "\n",
        "X_train, X_test, y_train, y_test = train_test_split(X, y_encoded, test_size=0.2, random_state=42)\n",
        "\n",
        "\n",
        "xgb_classifier = xgb.XGBClassifier(random_state=42)\n",
        "xgb_classifier.fit(X_train, y_train)\n",
        "\n",
        "y_pred_xgb = xgb_classifier.predict(X_test)\n",
        "\n",
        "\n",
        "knn_classifier = KNeighborsClassifier(n_neighbors=3)\n",
        "knn_classifier.fit(X_train, y_train)\n",
        "\n",
        "y_pred_knn = knn_classifier.predict(X_test)\n",
        "\n",
        "svm_classifier = SVC(kernel='linear', random_state=42)\n",
        "svm_classifier.fit(X_train, y_train)\n",
        "\n",
        "y_pred_svm = svm_classifier.predict(X_test)\n",
        "\n",
        "accuracy_xgb = accuracy_score(y_test, y_pred_xgb)\n",
        "accuracy_knn = accuracy_score(y_test, y_pred_knn)\n",
        "accuracy_svm = accuracy_score(y_test, y_pred_svm)\n",
        "\n",
        "ensemble_predictions = []\n",
        "for i in range(len(y_test)):\n",
        "    predictions = [y_pred_xgb[i], y_pred_knn[i], y_pred_svm[i]]\n",
        "    majority_vote = Counter(predictions).most_common(1)[0][0]\n",
        "    ensemble_predictions.append(majority_vote)\n",
        "\n",
        "\n",
        "print(f\"Accuracy of XGBoost classifier: {accuracy_xgb:.2f}\")\n",
        "print(f\"Accuracy of K-Nearest Neighbors classifier: {accuracy_knn:.2f}\")\n",
        "print(f\"Accuracy of Support Vector Machine classifier: {accuracy_svm:.2f}\")\n",
        "accuracy = accuracy_score(y_test, ensemble_predictions)\n",
        "print(f\"Accuracy of the Ensemble model: {accuracy:.2f}\")\n",
        "\n",
        "\n",
        "import tabulate\n",
        "\n",
        "def predict_and_recommend(input_data):\n",
        "\n",
        "    new_data_predictions_xgb = xgb_classifier.predict(input_data)\n",
        "    new_data_predictions_knn = knn_classifier.predict(input_data)\n",
        "    new_data_predictions_svm = svm_classifier.predict(input_data)\n",
        "\n",
        "    predictions = [new_data_predictions_xgb[0], new_data_predictions_knn[0], new_data_predictions_svm[0]]\n",
        "    top_three = [x[0] for x in Counter(predictions).most_common(3)]\n",
        "\n",
        "\n",
        "    predicted_courses = label_encoder.inverse_transform(top_three)\n",
        "\n",
        "    recommended_courses = list(predicted_courses)\n",
        "\n",
        "\n",
        "    print(\"Recommended Courses:\")\n",
        "    for course in recommended_courses:\n",
        "        print(course)\n",
        "\n",
        "    recommended_colleges = []\n",
        "\n",
        "    for predicted_course in recommended_courses:\n",
        "        colleges_for_course = college_df[college_df['Recommended Course'] == predicted_course]\n",
        "        recommended_colleges.append(colleges_for_course)\n",
        "\n",
        "    sorted_recommended_colleges = [colleges.sort_values(by='NIRF_Ranking_2023') for colleges in recommended_colleges]\n",
        "\n",
        "    for i, course in enumerate(recommended_courses):\n",
        "        print(f\"\\nTop 5 Colleges for {course}:\")\n",
        "        college_table = sorted_recommended_colleges[i][['College', 'NIRF_Ranking_2023']].head(5)\n",
        "\n",
        "        print(college_table)\n",
        "\n",
        "new_data = [[100, 100, 0, 0, 0,100,200,140,0,0,0,7,6]]\n",
        "predict_and_recommend(new_data)\n",
        "\n",
        "\n",
        "\n",
        "\n",
        "#joblib.dump(predict_and_recommend, 'course_recommendation_modell.pkl')\n"
      ],
      "metadata": {
        "colab": {
          "base_uri": "https://localhost:8080/"
        },
        "id": "EklWkQWp8Jo4",
        "outputId": "d8132d5f-4939-4cb6-e527-30239fa40162"
      },
      "execution_count": null,
      "outputs": [
        {
          "output_type": "stream",
          "name": "stdout",
          "text": [
            "Accuracy of XGBoost classifier: 0.96\n",
            "Accuracy of K-Nearest Neighbors classifier: 0.72\n",
            "Accuracy of Support Vector Machine classifier: 0.23\n",
            "Accuracy of the Ensemble model: 0.91\n",
            "Recommended Courses:\n",
            "Human Resource Management (B.Com)\n",
            "International Business (B.Com)\n",
            "Accounting (B.Com)\n",
            "\n",
            "Top 5 Colleges for Human Resource Management (B.Com):\n",
            "                                              College  NIRF_Ranking_2023\n",
            "90               Shri Ram College of Commerce (Delhi)                  3\n",
            "91            Lady Shri Ram College for Women (Delhi)                  6\n",
            "92                           Loyola College (Chennai)                 15\n",
            "93  St. Xavier's College (Autonomous), Mumbai (Mum...                 16\n",
            "94                      Christ University (Bangalore)                 19\n",
            "\n",
            "Top 5 Colleges for International Business (B.Com):\n",
            "                                              College  NIRF_Ranking_2023\n",
            "65          Indian Institute of Foreign Trade (Delhi)                  1\n",
            "66                      Christ University (Bangalore)                 19\n",
            "67  Symbiosis Institute of International Business ...                 33\n",
            "68                       XIM University (Bhubaneswar)                 45\n",
            "69  Institute of International Management and Econ...                 51\n",
            "\n",
            "Top 5 Colleges for Accounting (B.Com):\n",
            "                                              College  NIRF_Ranking_2023\n",
            "50               Shri Ram College of Commerce (Delhi)                  3\n",
            "51            Lady Shri Ram College for Women (Delhi)                  6\n",
            "52                           Loyola College (Chennai)                 15\n",
            "53  St. Xavier's College (Autonomous), Mumbai (Mum...                 16\n",
            "54                      Christ University (Bangalore)                 19\n"
          ]
        },
        {
          "output_type": "stream",
          "name": "stderr",
          "text": [
            "/usr/local/lib/python3.10/dist-packages/sklearn/base.py:439: UserWarning: X does not have valid feature names, but KNeighborsClassifier was fitted with feature names\n",
            "  warnings.warn(\n",
            "/usr/local/lib/python3.10/dist-packages/sklearn/base.py:439: UserWarning: X does not have valid feature names, but SVC was fitted with feature names\n",
            "  warnings.warn(\n"
          ]
        }
      ]
    },
    {
      "cell_type": "code",
      "source": [
        "# Save the XGBoost classifier\n",
        "joblib.dump(xgb_classifier, 'xgb_classifier_model.pkl')\n",
        "\n",
        "# Save the K-Nearest Neighbors classifier\n",
        "joblib.dump(knn_classifier, 'knn_classifier_model.pkl')\n",
        "\n",
        "# Save the Support Vector Machine classifier\n",
        "joblib.dump(svm_classifier, 'svm_classifier_model.pkl')"
      ],
      "metadata": {
        "colab": {
          "base_uri": "https://localhost:8080/"
        },
        "id": "MSJvw2IwCNb6",
        "outputId": "077b194e-c24f-4e90-d8be-f5543cc9cbd2"
      },
      "execution_count": null,
      "outputs": [
        {
          "output_type": "execute_result",
          "data": {
            "text/plain": [
              "['svm_classifier_model.pkl']"
            ]
          },
          "metadata": {},
          "execution_count": 5
        }
      ]
    }
  ]
}